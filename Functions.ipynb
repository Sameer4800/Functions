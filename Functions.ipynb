{
 "cells": [
  {
   "cell_type": "markdown",
   "id": "b727f90e-8777-42c6-95ec-7324a0f84916",
   "metadata": {},
   "source": [
    "# Theory Questions:"
   ]
  },
  {
   "cell_type": "markdown",
   "id": "80cd36af-1ae8-4bbc-aa8d-93d5f8827268",
   "metadata": {},
   "source": [
    "### Q 1. What is the difference between a function and a method in Python?"
   ]
  },
  {
   "cell_type": "markdown",
   "id": "de9d3a66-b61f-4bb0-8d70-5008547e5ba5",
   "metadata": {},
   "source": [
    "Ans. In Python, the terms function and method both refer to callable objects that perform a specific task, but they differ in their context and how they are used:\n",
    "\n",
    "### Function\n",
    "\n",
    "* Definition: A function is a block of reusable code that performs a specific task and is defined using the def keyword.\n",
    "* Scope: Functions are usually defined at the module level and can be called independently of any object.\n",
    "* Syntax:"
   ]
  },
  {
   "cell_type": "code",
   "execution_count": 1,
   "id": "1c245f82-682e-4aff-928c-fc1fa2819a9b",
   "metadata": {},
   "outputs": [],
   "source": [
    "def my_function(arg1, arg2):\n",
    "    return arg1 + arg2\n",
    "\n",
    "result = my_function(3, 5)"
   ]
  },
  {
   "cell_type": "markdown",
   "id": "99698484-7d93-4b61-833c-04b194da938c",
   "metadata": {},
   "source": [
    "* Key Characteristic: Functions can exist outside of classes and are not tied to any specific object."
   ]
  },
  {
   "cell_type": "markdown",
   "id": "e3efb178-bfdd-49f5-85ef-1d5ca7f380fa",
   "metadata": {},
   "source": [
    "### Method\n",
    "\n",
    "* Definition: A method is similar to a function but is associated with an object. It is defined inside a class and operates on the data (attributes) of that object.\n",
    "* Scope: Methods are defined within a class and can only be called using an instance of the class (or the class itself, in the case of class or static methods).\n",
    "* Syntax:"
   ]
  },
  {
   "cell_type": "code",
   "execution_count": 2,
   "id": "81637994-fe04-4bc0-a8ce-57ad2a28aa41",
   "metadata": {},
   "outputs": [],
   "source": [
    "class MyClass:\n",
    "    def my_method(self, arg):\n",
    "        return f\"Hello, {arg}!\"\n",
    "\n",
    "obj = MyClass()\n",
    "result = obj.my_method(\"World\")"
   ]
  },
  {
   "cell_type": "markdown",
   "id": "6cdba967-69fb-474c-9618-caf424011339",
   "metadata": {},
   "source": [
    "* Key Characteristic: Methods implicitly take the instance (self) or class (cls) as their first argument, depending on the method type:\n",
    "* Instance method: First argument is self.\n",
    "* Class method: First argument is cls.\n",
    "* Static method: No implicit first argument."
   ]
  },
  {
   "cell_type": "markdown",
   "id": "9ad07689-d3ff-44b6-9a0d-70ad3e43bf6d",
   "metadata": {},
   "source": [
    "###  Q 2. Explain the concept of function arguments and parameters in Python."
   ]
  },
  {
   "cell_type": "markdown",
   "id": "22ccb7b1-e299-49cd-8492-eba8f548137c",
   "metadata": {},
   "source": [
    "Ans. In Python, parameters and arguments are key concepts in defining and calling functions, but they serve different purposes.\n",
    "\n",
    "### Parameters\n",
    "\n",
    "* Definition: Parameters are the names defined in a function's definition that act as placeholders for the values the function will receive when it is called.\n",
    "* Scope: They exist only within the function and are used to refer to the input data.\n",
    "* Example:"
   ]
  },
  {
   "cell_type": "code",
   "execution_count": 3,
   "id": "c5d9a562-3922-4faa-a979-9ad8253a5f29",
   "metadata": {},
   "outputs": [],
   "source": [
    "def greet(name):  # 'name' is a parameter\n",
    "    print(f\"Hello, {name}!\")"
   ]
  },
  {
   "cell_type": "markdown",
   "id": "2dc6754a-f785-4102-8eb7-0d4777390928",
   "metadata": {},
   "source": [
    "### Arguments\n",
    "\n",
    "* Definition: Arguments are the actual values you pass to a function when calling it, which are assigned to the corresponding parameters.\n",
    "Example:"
   ]
  },
  {
   "cell_type": "code",
   "execution_count": 9,
   "id": "6e8509a2-d10c-460f-97fb-d41afaa51e5f",
   "metadata": {},
   "outputs": [
    {
     "data": {
      "text/plain": [
       "'Hello, Sameer!'"
      ]
     },
     "execution_count": 9,
     "metadata": {},
     "output_type": "execute_result"
    }
   ],
   "source": [
    "greet(\"Sameer\")  # \"Sameer\" is an argument"
   ]
  },
  {
   "cell_type": "code",
   "execution_count": 5,
   "id": "144f7937-c433-428b-8aed-92f7b8587fbe",
   "metadata": {},
   "outputs": [],
   "source": [
    "def add(a, b):  # a and b are positional parameters\n",
    "    return a + b\n",
    "\n",
    "result = add(5, 10)  # 5 and 10 are positional arguments"
   ]
  },
  {
   "cell_type": "markdown",
   "id": "df1b4959-258a-4fd5-bfdd-cd4eed2253c1",
   "metadata": {},
   "source": [
    "### Q 3. What are the different ways to define and call a function in Python?"
   ]
  },
  {
   "cell_type": "markdown",
   "id": "f9e3b4eb-dbf0-4a2a-ad4a-358e7b467dcc",
   "metadata": {},
   "source": [
    "Ans. Here are different ways to define and call functions in Python:\n",
    "\n",
    "### 1. Standard Function Definition\n",
    "\n",
    "A typical way to define and call a function."
   ]
  },
  {
   "cell_type": "code",
   "execution_count": 8,
   "id": "a3051a8a-cd7d-48f0-92df-e40637ce01ea",
   "metadata": {},
   "outputs": [
    {
     "name": "stdout",
     "output_type": "stream",
     "text": [
      "Hello, Sameer!\n"
     ]
    }
   ],
   "source": [
    "def greet(name):\n",
    "    return f\"Hello, {name}!\"\n",
    "\n",
    "print(greet(\"Sameer\"))  # Output: Hello, Sameer!"
   ]
  },
  {
   "cell_type": "markdown",
   "id": "6d760169-7d68-4125-a2cc-dd57eb33e71e",
   "metadata": {},
   "source": [
    "### 2. Function with Default Parameters\n",
    "\n",
    "You can provide default values for parameters."
   ]
  },
  {
   "cell_type": "code",
   "execution_count": 10,
   "id": "43c6a520-607b-4ec2-b6b0-32e85ebb3971",
   "metadata": {},
   "outputs": [
    {
     "name": "stdout",
     "output_type": "stream",
     "text": [
      "Hello, Guest!\n",
      "Hello, Sameer!\n"
     ]
    }
   ],
   "source": [
    "def greet(name=\"Guest\"):\n",
    "    return f\"Hello, {name}!\"\n",
    "\n",
    "print(greet())          # Output: Hello, Guest!\n",
    "print(greet(\"Sameer\"))   # Output: Hello, Sameer!"
   ]
  },
  {
   "cell_type": "markdown",
   "id": "5a98310b-5f5c-4f5b-b0e0-e01b757cf5e6",
   "metadata": {},
   "source": [
    "### 3. Lambda (Anonymous) Functions\n",
    "\n",
    "One-liner functions often used for short operations."
   ]
  },
  {
   "cell_type": "code",
   "execution_count": 11,
   "id": "0eaca058-4d58-491f-9b36-b9bfd30088b3",
   "metadata": {},
   "outputs": [
    {
     "name": "stdout",
     "output_type": "stream",
     "text": [
      "25\n"
     ]
    }
   ],
   "source": [
    "square = lambda x: x * x\n",
    "print(square(5))  # Output: 25"
   ]
  },
  {
   "cell_type": "markdown",
   "id": "b7ad3fdc-d6ee-4ad7-bb68-a7b482a2ffda",
   "metadata": {},
   "source": [
    "### 4. Using *args (Variable-Length Arguments)\n",
    "\n",
    "To accept multiple arguments as a tuple."
   ]
  },
  {
   "cell_type": "code",
   "execution_count": 12,
   "id": "1018b872-fafc-42ee-a23f-94886b634f64",
   "metadata": {},
   "outputs": [
    {
     "name": "stdout",
     "output_type": "stream",
     "text": [
      "10\n"
     ]
    }
   ],
   "source": [
    "def sum_all(*args):\n",
    "    return sum(args)\n",
    "\n",
    "print(sum_all(1, 2, 3, 4))  # Output: 10"
   ]
  },
  {
   "cell_type": "markdown",
   "id": "edbff473-4d3d-44b3-a9e1-f39c6cbe73f3",
   "metadata": {},
   "source": [
    "### 8. Returning Functions\n",
    "\n",
    "Functions returning another function."
   ]
  },
  {
   "cell_type": "code",
   "execution_count": 13,
   "id": "569364e7-eeb3-47cb-9e09-3756d0bcf4f1",
   "metadata": {},
   "outputs": [
    {
     "name": "stdout",
     "output_type": "stream",
     "text": [
      "10\n"
     ]
    }
   ],
   "source": [
    "def multiplier(n):\n",
    "    return lambda x: x * n\n",
    "\n",
    "double = multiplier(2)\n",
    "print(double(5))  # Output: 10"
   ]
  },
  {
   "cell_type": "markdown",
   "id": "53772b73-5fce-4fe0-bdd2-3e0c27fada24",
   "metadata": {},
   "source": [
    "### Q 4. What is the purpose of the `return` statement in a Python function?"
   ]
  },
  {
   "cell_type": "markdown",
   "id": "57694a57-a4de-48a1-8576-cb00985e0a3e",
   "metadata": {},
   "source": [
    "Ans. The return statement in a Python function is used to:\n",
    "\n",
    "### 1. Send a value back to the caller:\n",
    "\n",
    "* The return statement allows a function to produce a result (or output) that can be used by the code that called the function. This result can be a value of any data type (e.g., integer, string, list, object)."
   ]
  },
  {
   "cell_type": "code",
   "execution_count": 14,
   "id": "a644823a-1f20-4b61-99e7-fe541ed4674f",
   "metadata": {},
   "outputs": [
    {
     "name": "stdout",
     "output_type": "stream",
     "text": [
      "8\n"
     ]
    }
   ],
   "source": [
    "def add(a, b):\n",
    "    return a + b\n",
    "\n",
    "result = add(3, 5)\n",
    "print(result)  # Output: 8"
   ]
  },
  {
   "cell_type": "markdown",
   "id": "6e13427f-395e-4e26-9638-3f3684842887",
   "metadata": {},
   "source": [
    "### 2. End the Function Execution:\n",
    "\n",
    "* When a return statement is encountered, the function stops executing, and the program control is returned to the calling code. Any code in the function after the return statement will not be executed."
   ]
  },
  {
   "cell_type": "code",
   "execution_count": 15,
   "id": "e43151de-f7a7-4232-bb9e-42f9db945a95",
   "metadata": {},
   "outputs": [
    {
     "name": "stdout",
     "output_type": "stream",
     "text": [
      "Done\n"
     ]
    }
   ],
   "source": [
    "def example():\n",
    "    return \"Done\"\n",
    "    print(\"This will not be executed\")\n",
    "\n",
    "print(example())  # Output: Done"
   ]
  },
  {
   "cell_type": "markdown",
   "id": "2192e6df-0284-4586-b56b-21c613ae3079",
   "metadata": {},
   "source": [
    "### 3. Return Multiple Values:\n",
    "\n",
    "Python allows a function to return multiple values by returning them as a tuple."
   ]
  },
  {
   "cell_type": "code",
   "execution_count": 16,
   "id": "4179467b-fef6-4fc5-b4fc-e8858e6fed50",
   "metadata": {},
   "outputs": [
    {
     "name": "stdout",
     "output_type": "stream",
     "text": [
      "9\n",
      "20\n"
     ]
    }
   ],
   "source": [
    "def calculate(a, b):\n",
    "    return a + b, a * b\n",
    "\n",
    "sum_value, product_value = calculate(4, 5)\n",
    "print(sum_value)      # Output: 9\n",
    "print(product_value)  # Output: 20"
   ]
  },
  {
   "cell_type": "markdown",
   "id": "05461719-2098-4efa-b39a-9a654b927aba",
   "metadata": {},
   "source": [
    "### 4. Return Nothing (None):\n",
    "\n",
    "A function without a return statement or one that explicitly uses return without a value returns None by default."
   ]
  },
  {
   "cell_type": "code",
   "execution_count": 17,
   "id": "c06f6ea5-4905-47b9-b24d-9042f5cb6560",
   "metadata": {},
   "outputs": [
    {
     "name": "stdout",
     "output_type": "stream",
     "text": [
      "None\n"
     ]
    }
   ],
   "source": [
    "def no_return():\n",
    "    pass\n",
    "\n",
    "print(no_return())  # Output: None"
   ]
  },
  {
   "cell_type": "markdown",
   "id": "fa182220-66a4-48ea-b222-fe10f78b9fc2",
   "metadata": {},
   "source": [
    "### Q 5. What are iterators in Python and how do they differ from iterables?"
   ]
  },
  {
   "cell_type": "markdown",
   "id": "252618fe-4342-4a48-ad91-dde46a0df9b0",
   "metadata": {},
   "source": [
    "Ans. In Python, iterators and iterables are key concepts in the context of loops and sequence handling. While they are related, they serve different purposes.\n",
    "\n",
    "#### Iterables\n",
    "\n",
    "An iterable is any object that can be looped over (iterated) using a for loop or other iteration tools. Examples include:\n",
    "\n",
    "* Lists ([1, 2, 3])\n",
    "* Strings (\"hello\")\n",
    "* Tuples ((1, 2, 3))\n",
    "* Dictionaries ({'a': 1, 'b': 2})\n",
    "* Sets ({1, 2, 3})\n",
    "\n",
    "#### Characteristics of an Iterable:\n",
    "\n",
    "1. It must implement the __iter__() method, which returns an iterator.\n",
    "2. It does not itself manage the iteration state.\n",
    "\n",
    "Example:"
   ]
  },
  {
   "cell_type": "code",
   "execution_count": 18,
   "id": "5d0772a4-457b-458f-b179-7cbe8ec39052",
   "metadata": {},
   "outputs": [
    {
     "name": "stdout",
     "output_type": "stream",
     "text": [
      "1\n",
      "2\n",
      "3\n"
     ]
    }
   ],
   "source": [
    "my_list = [1, 2, 3]  # This is an iterable\n",
    "\n",
    "for item in my_list:\n",
    "    print(item)  # Output: 1, 2, 3"
   ]
  },
  {
   "cell_type": "markdown",
   "id": "4cf9953a-3259-4f6d-8f9a-ac66474ce373",
   "metadata": {},
   "source": [
    "#### Iterators\n",
    "An iterator is an object that represents a stream of data. It provides a way to access elements of an iterable one at a time. An iterator:\n",
    "\n",
    "1. Implements the __iter__() method (returns itself).\n",
    "2. Implements the __next__() method, which returns the next item in the sequence. If there are no more items, it raises a StopIteration exception.\n",
    "\n",
    "Characteristics of an Iterator:\n",
    "* Manages its own iteration state.\n",
    "* Can only traverse the sequence once; once exhausted, it cannot be reset.\n",
    "\n",
    "Example:"
   ]
  },
  {
   "cell_type": "code",
   "execution_count": 19,
   "id": "2f2fcca1-a304-425f-ab4c-a45e5c5cf859",
   "metadata": {},
   "outputs": [
    {
     "name": "stdout",
     "output_type": "stream",
     "text": [
      "1\n",
      "2\n",
      "3\n"
     ]
    }
   ],
   "source": [
    "my_list = [1, 2, 3]  # Iterable\n",
    "my_iterator = iter(my_list)  # Convert iterable to iterator\n",
    "\n",
    "print(next(my_iterator))  # Output: 1\n",
    "print(next(my_iterator))  # Output: 2\n",
    "print(next(my_iterator))  # Output: 3\n",
    "# print(next(my_iterator))  # Raises StopIteration"
   ]
  },
  {
   "cell_type": "markdown",
   "id": "efff5597-0fd4-4b65-bcac-f85da5933f57",
   "metadata": {},
   "source": [
    "### Q 6. Explain the concept of generators in Python and how they are defined."
   ]
  },
  {
   "cell_type": "markdown",
   "id": "95e32b8e-112e-482a-bf29-32bc3aea4bc4",
   "metadata": {},
   "source": [
    "Ans. Generators in Python are a type of iterable, like lists or tuples, but with a fundamental difference: instead of storing all their elements in memory, generators produce items one at a time, only as needed. This approach makes them more memory-efficient, especially for handling large datasets or infinite sequences.\n",
    "\n",
    "#### Key Features of Generators:\n",
    "1. Lazy Evaluation: Generators produce items on demand, rather than calculating and storing them all at once.\n",
    "2. State Retention: They remember their state between iterations, enabling them to pick up where they left off.\n",
    "3. Single Iteration: Generators can only be iterated once. Once exhausted, they cannot be reused.\n",
    "\n",
    "Defining Generators:\n",
    "\n",
    "Generators can be defined in two main ways: using generator functions and generator expressions.\n",
    "\n",
    "#### 1. Generator Functions\n",
    "\n",
    "A generator function is defined like a regular function but uses the yield keyword to produce a value and temporarily suspend execution. Each time the generator is iterated, execution resumes from where it left off."
   ]
  },
  {
   "cell_type": "code",
   "execution_count": 20,
   "id": "ec2dfbf8-7e6e-4744-a872-904a101da368",
   "metadata": {},
   "outputs": [],
   "source": [
    "def countdown(n):\n",
    "    while n > 0:\n",
    "        yield n  # Produces the next value\n",
    "        n -= 1"
   ]
  },
  {
   "cell_type": "code",
   "execution_count": 21,
   "id": "619cc587-9b3c-459a-9c36-5750aff8c179",
   "metadata": {},
   "outputs": [
    {
     "name": "stdout",
     "output_type": "stream",
     "text": [
      "5\n",
      "4\n"
     ]
    }
   ],
   "source": [
    "gen = countdown(5)\n",
    "print(next(gen))  # Outputs: 5\n",
    "print(next(gen))  # Outputs: 4\n",
    "# Continue until the generator is exhausted"
   ]
  },
  {
   "cell_type": "markdown",
   "id": "868fdd32-6176-48ca-b404-1f92b71140ed",
   "metadata": {},
   "source": [
    "#### 2. Generator Expressions\n",
    "Generator expressions provide a concise way to create generators, similar to list comprehensions but with parentheses instead of square brackets.\n",
    "\n",
    "Example:"
   ]
  },
  {
   "cell_type": "code",
   "execution_count": 22,
   "id": "05daecf4-cae0-414a-b9e2-0612d5d62fe3",
   "metadata": {},
   "outputs": [],
   "source": [
    "squares = (x ** 2 for x in range(10))"
   ]
  },
  {
   "cell_type": "code",
   "execution_count": 23,
   "id": "63edbf1c-8993-4874-bdc7-7508aa999720",
   "metadata": {},
   "outputs": [
    {
     "name": "stdout",
     "output_type": "stream",
     "text": [
      "0\n",
      "1\n",
      "4\n",
      "9\n",
      "16\n",
      "25\n",
      "36\n",
      "49\n",
      "64\n",
      "81\n"
     ]
    }
   ],
   "source": [
    "for square in squares:\n",
    "    print(square)"
   ]
  },
  {
   "cell_type": "markdown",
   "id": "97365cbc-6e51-4396-9343-ea942a4201fd",
   "metadata": {},
   "source": [
    "#### Advantages of Generators:\n",
    "* Memory Efficiency: Since values are generated on demand, they save memory.\n",
    "* Infinite Sequences: They can model infinite sequences, unlike lists.\n",
    "* Chaining Operations: Useful in data pipelines or for chaining multiple operations lazily.\n",
    "#### Differences Between Generators and Normal Functions:\n",
    "* yield vs. return: yield is used to produce a value and pause the function, whereas return ends the function.\n",
    "* Statefulness: Generators maintain their state between calls.\n",
    "\n",
    "Generators are a powerful feature in Python for efficient, on-the-fly computation, especially useful when working with large data streams or when you don't need all the data at once."
   ]
  },
  {
   "cell_type": "markdown",
   "id": "8e2e0137-7e57-40ba-944b-7936cff848df",
   "metadata": {},
   "source": [
    "### Q 7. What are the advantages of using generators over regular functions?"
   ]
  },
  {
   "cell_type": "markdown",
   "id": "27c3559f-d41f-46e9-bad9-d9bb6a9b5c41",
   "metadata": {},
   "source": [
    "#### Advantages of Generators Over Regular Functions:\n",
    "\n",
    "1. Memory Efficiency: Generators don't store all data in memory; they produce items on demand."
   ]
  },
  {
   "cell_type": "code",
   "execution_count": 24,
   "id": "0e6ff2db-115c-4609-8ed1-ba9650b8c39a",
   "metadata": {},
   "outputs": [],
   "source": [
    "def gen_numbers():\n",
    "    for i in range(10**6):\n",
    "        yield i  # Generates numbers one at a time\n",
    "\n",
    "nums = gen_numbers()  # Uses minimal memory"
   ]
  },
  {
   "cell_type": "markdown",
   "id": "2ce8de81-5004-4f45-9db8-a76292147792",
   "metadata": {},
   "source": [
    "2. Lazy Evaluation: Values are computed only when needed, saving computation time for unused data."
   ]
  },
  {
   "cell_type": "code",
   "execution_count": 25,
   "id": "d42bfdb2-5c33-4207-b71a-34e5e3998f11",
   "metadata": {},
   "outputs": [
    {
     "name": "stdout",
     "output_type": "stream",
     "text": [
      "0\n"
     ]
    }
   ],
   "source": [
    "squares = (x**2 for x in range(10**6))  # Only calculates when iterated\n",
    "print(next(squares))  # Outputs: 0"
   ]
  },
  {
   "cell_type": "markdown",
   "id": "3f663716-4cbe-42d1-a325-b8d7e21cdf08",
   "metadata": {},
   "source": [
    "3. Statefulness: Generators remember their state between calls, making them ideal for tasks like streaming data."
   ]
  },
  {
   "cell_type": "code",
   "execution_count": 26,
   "id": "3a5e7632-eb5c-4e13-8bce-5880d84cac76",
   "metadata": {},
   "outputs": [
    {
     "name": "stdout",
     "output_type": "stream",
     "text": [
      "1\n",
      "2\n"
     ]
    }
   ],
   "source": [
    "def counter():\n",
    "    n = 1\n",
    "    while True:\n",
    "        yield n\n",
    "        n += 1\n",
    "\n",
    "c = counter()\n",
    "print(next(c))  # Outputs: 1\n",
    "print(next(c))  # Outputs: 2"
   ]
  },
  {
   "cell_type": "markdown",
   "id": "ce4a1112-e17d-443b-8410-ce30a671c5bd",
   "metadata": {},
   "source": [
    "4. Support for Infinite Sequences: Generators can handle infinite loops without memory issues."
   ]
  },
  {
   "cell_type": "code",
   "execution_count": 27,
   "id": "5e7e2f7c-4fc8-4e1d-85f6-f919ca30a082",
   "metadata": {},
   "outputs": [
    {
     "name": "stdout",
     "output_type": "stream",
     "text": [
      "0\n"
     ]
    }
   ],
   "source": [
    "def infinite_numbers():\n",
    "    n = 0\n",
    "    while True:\n",
    "        yield n\n",
    "        n += 1\n",
    "\n",
    "nums = infinite_numbers()\n",
    "print(next(nums))  # Outputs: 0"
   ]
  },
  {
   "cell_type": "markdown",
   "id": "4476a6d7-8f45-4dae-8c61-fc48af15eea6",
   "metadata": {},
   "source": [
    "Generators are especially beneficial when working with large or infinite datasets, reducing memory and computation overhead compared to regular functions or lists."
   ]
  },
  {
   "cell_type": "markdown",
   "id": "f84e8582-844a-4cfd-9a02-ae3f6ca1156f",
   "metadata": {},
   "source": [
    "### Q 8. What is a lambda function in Python and when is it typically used?"
   ]
  },
  {
   "cell_type": "markdown",
   "id": "1a2618a6-b6e5-4a3b-ae2b-993c3a2c231c",
   "metadata": {},
   "source": [
    "Ans. A lambda function in Python is an anonymous, single-expression function defined using the lambda keyword. Unlike regular functions created with def, lambda functions are compact and do not require a name.\n",
    "\n",
    "##### Syntax"
   ]
  },
  {
   "cell_type": "code",
   "execution_count": 28,
   "id": "5a899712-fdbe-4346-8787-48284d0f198b",
   "metadata": {},
   "outputs": [
    {
     "data": {
      "text/plain": [
       "<function __main__.<lambda>(arguments)>"
      ]
     },
     "execution_count": 28,
     "metadata": {},
     "output_type": "execute_result"
    }
   ],
   "source": [
    "lambda arguments: expression"
   ]
  },
  {
   "cell_type": "markdown",
   "id": "0b292747-32da-4424-b7f6-28bfc714d645",
   "metadata": {},
   "source": [
    "The function returns the value of the expression when called with the arguments.\n",
    "\n",
    "##### Example"
   ]
  },
  {
   "cell_type": "code",
   "execution_count": 29,
   "id": "dfce2b65-85a6-4478-b706-92098d684cb5",
   "metadata": {},
   "outputs": [
    {
     "name": "stdout",
     "output_type": "stream",
     "text": [
      "16\n"
     ]
    }
   ],
   "source": [
    "square = lambda x: x ** 2\n",
    "print(square(4))  # Outputs: 16"
   ]
  },
  {
   "cell_type": "markdown",
   "id": "037ef428-08f8-41a5-a2c2-58ee8f3fde35",
   "metadata": {},
   "source": [
    "### Q 9. Explain the purpose and usage of the `map()` function in Python."
   ]
  },
  {
   "cell_type": "markdown",
   "id": "46786daf-d002-4b9d-8a9f-8543334bd921",
   "metadata": {},
   "source": [
    "Ans. The map() function in Python is used to apply a given function to all items in an iterable (like a list or tuple) and return an iterable (map object) with the results.\n",
    "\n",
    "##### Syntax:"
   ]
  },
  {
   "cell_type": "markdown",
   "id": "08f00832-2c92-44b9-82fd-3bae17832199",
   "metadata": {},
   "source": [
    "map(function, iterable, ...)"
   ]
  },
  {
   "cell_type": "markdown",
   "id": "de51a093-73f2-4d13-9d9e-0f0284e5649c",
   "metadata": {},
   "source": [
    "* function: A function that will be applied to each element of the iterable.\n",
    "* iterable: One or more iterables (lists, tuples, etc.) whose elements will be processed by the function.\n",
    "* Additional iterables can be passed, and the function should be able to handle multiple arguments (for example, if two iterables are provided, the function should accept two arguments).\n",
    "\n",
    "##### Purpose:\n",
    "\n",
    "* Transforming elements: It allows you to apply a transformation function to every element of an iterable without using a loop explicitly.\n",
    "* Functional programming style: It encourages a more functional programming approach, where you avoid side effects and focus on transformations.\n",
    "* Efficiency: map() is often more concise and sometimes more efficient than using a loop.\n",
    "\n",
    "##### Example:\n",
    "\n",
    "1. Single iterable:"
   ]
  },
  {
   "cell_type": "code",
   "execution_count": 31,
   "id": "cc114661-ebee-4e5b-9f7d-128bfad7bcfe",
   "metadata": {},
   "outputs": [
    {
     "name": "stdout",
     "output_type": "stream",
     "text": [
      "[2, 4, 6, 8]\n"
     ]
    }
   ],
   "source": [
    "# Function to double a number\n",
    "def double(x):\n",
    "    return x * 2\n",
    "\n",
    "numbers = [1, 2, 3, 4]\n",
    "doubled_numbers = map(double, numbers)\n",
    "\n",
    "# Convert map object to list for display\n",
    "print(list(doubled_numbers))  # Output: [2, 4, 6, 8]"
   ]
  },
  {
   "cell_type": "markdown",
   "id": "a8a65d71-abfd-4663-8434-789ce504a931",
   "metadata": {},
   "source": [
    "2. Multiple iterables:"
   ]
  },
  {
   "cell_type": "code",
   "execution_count": 32,
   "id": "26d751ff-b0fa-42c6-89c0-2c1fb9b8dd09",
   "metadata": {},
   "outputs": [
    {
     "name": "stdout",
     "output_type": "stream",
     "text": [
      "[5, 7, 9]\n"
     ]
    }
   ],
   "source": [
    "# Function to add two numbers\n",
    "def add(x, y):\n",
    "    return x + y\n",
    "\n",
    "list1 = [1, 2, 3]\n",
    "list2 = [4, 5, 6]\n",
    "result = map(add, list1, list2)\n",
    "\n",
    "print(list(result))  # Output: [5, 7, 9]"
   ]
  },
  {
   "cell_type": "markdown",
   "id": "a99b02d9-6341-4a3e-93dd-54754a2f3b7e",
   "metadata": {},
   "source": [
    "# Practical Questions:"
   ]
  },
  {
   "cell_type": "markdown",
   "id": "68b20e65-f2ca-4f2a-925a-3802e28ec085",
   "metadata": {},
   "source": [
    "### Q 1. Write a Python function that takes a list of numbers as input and returns the sum of all even numbers in the list."
   ]
  },
  {
   "cell_type": "code",
   "execution_count": 33,
   "id": "de135c07-7200-4ec9-9dc9-9d61637953fb",
   "metadata": {},
   "outputs": [
    {
     "name": "stdout",
     "output_type": "stream",
     "text": [
      "Sum of even numbers: 12\n"
     ]
    }
   ],
   "source": [
    "def sum_even_numbers(numbers):\n",
    "    # Use list comprehension to filter out even numbers and sum them\n",
    "    return sum(num for num in numbers if num % 2 == 0)\n",
    "\n",
    "# Example usage:\n",
    "numbers = [1, 2, 3, 4, 5, 6]\n",
    "result = sum_even_numbers(numbers)\n",
    "print(\"Sum of even numbers:\", result)"
   ]
  },
  {
   "cell_type": "markdown",
   "id": "e9800b40-c40b-40b1-a0e9-e21a66c12e02",
   "metadata": {},
   "source": [
    "### Q 2. Create a Python function that accepts a string and returns the reverse of that string."
   ]
  },
  {
   "cell_type": "code",
   "execution_count": 35,
   "id": "bb0cee6f-b04a-423c-8045-cef71fa47fa0",
   "metadata": {},
   "outputs": [
    {
     "name": "stdout",
     "output_type": "stream",
     "text": [
      "olleh\n"
     ]
    }
   ],
   "source": [
    "def reverse_string(input_string):\n",
    "    return input_string[::-1]\n",
    "result = reverse_string(\"hello\")\n",
    "print(result)  # Output: \"olleh\"\n"
   ]
  },
  {
   "cell_type": "markdown",
   "id": "b11a0164-49b0-479e-8798-e01f8cd8d209",
   "metadata": {},
   "source": [
    "### Q 3.  Implement a Python function that takes a list of integers and returns a new list containing the squares of each number."
   ]
  },
  {
   "cell_type": "code",
   "execution_count": 36,
   "id": "5ce2d714-7bd5-477f-92b0-2eece1477dad",
   "metadata": {},
   "outputs": [
    {
     "name": "stdout",
     "output_type": "stream",
     "text": [
      "[1, 4, 9, 16, 25]\n"
     ]
    }
   ],
   "source": [
    "def square_numbers(nums):\n",
    "    return [num ** 2 for num in nums]\n",
    "\n",
    "# Example usage:\n",
    "nums = [1, 2, 3, 4, 5]\n",
    "squared_nums = square_numbers(nums)\n",
    "print(squared_nums)"
   ]
  },
  {
   "cell_type": "markdown",
   "id": "e47f6ab1-be36-442b-976c-383ebc157d8b",
   "metadata": {},
   "source": [
    "### Q 4. Write a Python function that checks if a given number is prime or not from 1 to 200."
   ]
  },
  {
   "cell_type": "code",
   "execution_count": 37,
   "id": "4c5340b4-dcca-4111-b1d0-6034097e809f",
   "metadata": {},
   "outputs": [
    {
     "name": "stdout",
     "output_type": "stream",
     "text": [
      "[2, 3, 5, 7, 11, 13, 17, 19, 23, 29, 31, 37, 41, 43, 47, 53, 59, 61, 67, 71, 73, 79, 83, 89, 97, 101, 103, 107, 109, 113, 127, 131, 137, 139, 149, 151, 157, 163, 167, 173, 179, 181, 191, 193, 197, 199]\n"
     ]
    }
   ],
   "source": [
    "def is_prime(num):\n",
    "    # Check if the number is less than 2\n",
    "    if num < 2:\n",
    "        return False\n",
    "    # Check for divisibility from 2 to the square root of num\n",
    "    for i in range(2, int(num**0.5) + 1):\n",
    "        if num % i == 0:\n",
    "            return False\n",
    "    return True\n",
    "\n",
    "# Test the function for numbers 1 to 200\n",
    "primes = [num for num in range(1, 201) if is_prime(num)]\n",
    "print(primes)"
   ]
  },
  {
   "cell_type": "markdown",
   "id": "eb635328-f448-4448-875b-3af795164fb2",
   "metadata": {},
   "source": [
    "### Q 5. Create an iterator class in Python that generates the Fibonacci sequence up to a specified number of terms."
   ]
  },
  {
   "cell_type": "code",
   "execution_count": 38,
   "id": "fb82d436-d0d1-48ca-bb06-b8e56e10e839",
   "metadata": {},
   "outputs": [
    {
     "name": "stdout",
     "output_type": "stream",
     "text": [
      "0\n",
      "1\n",
      "1\n",
      "2\n",
      "3\n",
      "5\n",
      "8\n",
      "13\n",
      "21\n",
      "34\n"
     ]
    }
   ],
   "source": [
    "class FibonacciIterator:\n",
    "    def __init__(self, terms):\n",
    "        self.terms = terms  # The number of terms to generate\n",
    "        self.a, self.b = 0, 1  # Starting values for the Fibonacci sequence\n",
    "        self.count = 0  # Count of terms generated\n",
    "\n",
    "    def __iter__(self):\n",
    "        return self  # The object itself is the iterator\n",
    "\n",
    "    def __next__(self):\n",
    "        if self.count < self.terms:\n",
    "            current_value = self.a\n",
    "            self.a, self.b = self.b, self.a + self.b  # Update to the next Fibonacci numbers\n",
    "            self.count += 1\n",
    "            return current_value\n",
    "        else:\n",
    "            raise StopIteration  # Stop when the specified number of terms is reached\n",
    "\n",
    "# Example usage\n",
    "fib = FibonacciIterator(10)  # Generate the first 10 Fibonacci numbers\n",
    "for num in fib:\n",
    "    print(num)"
   ]
  },
  {
   "cell_type": "markdown",
   "id": "c68a033d-c4ba-47b3-9b6d-6ea895d161bf",
   "metadata": {},
   "source": [
    "### Q 6. Write a generator function in Python that yields the powers of 2 up to a given exponent."
   ]
  },
  {
   "cell_type": "code",
   "execution_count": 39,
   "id": "26e632b1-7eb5-4948-919f-163e93d63a28",
   "metadata": {},
   "outputs": [
    {
     "name": "stdout",
     "output_type": "stream",
     "text": [
      "1\n",
      "2\n",
      "4\n",
      "8\n",
      "16\n",
      "32\n"
     ]
    }
   ],
   "source": [
    "def powers_of_2(exponent):\n",
    "    for i in range(exponent + 1):\n",
    "        yield 2 ** i\n",
    "for power in powers_of_2(5):\n",
    "    print(power)\n"
   ]
  },
  {
   "cell_type": "markdown",
   "id": "e89394cf-5ce5-4fbd-988a-f771fd460944",
   "metadata": {},
   "source": [
    "### Q 7.  Implement a generator function that reads a file line by line and yields each line as a string."
   ]
  },
  {
   "cell_type": "code",
   "execution_count": 42,
   "id": "855b2342-4d85-472e-9a97-c5241adfec18",
   "metadata": {},
   "outputs": [
    {
     "ename": "FileNotFoundError",
     "evalue": "[Errno 2] No such file or directory: 'example.txt'",
     "output_type": "error",
     "traceback": [
      "\u001b[1;31m---------------------------------------------------------------------------\u001b[0m",
      "\u001b[1;31mFileNotFoundError\u001b[0m                         Traceback (most recent call last)",
      "Cell \u001b[1;32mIn[42], line 7\u001b[0m\n\u001b[0;32m      4\u001b[0m             \u001b[38;5;28;01myield\u001b[39;00m line\u001b[38;5;241m.\u001b[39mstrip()  \u001b[38;5;66;03m# Using strip() to remove any trailing newline characters\u001b[39;00m\n\u001b[0;32m      6\u001b[0m file_path \u001b[38;5;241m=\u001b[39m \u001b[38;5;124m'\u001b[39m\u001b[38;5;124mexample.txt\u001b[39m\u001b[38;5;124m'\u001b[39m\n\u001b[1;32m----> 7\u001b[0m \u001b[38;5;28;01mfor\u001b[39;00m line \u001b[38;5;129;01min\u001b[39;00m read_file_line_by_line(file_path):\n\u001b[0;32m      8\u001b[0m     \u001b[38;5;28mprint\u001b[39m(line)\n",
      "Cell \u001b[1;32mIn[42], line 2\u001b[0m, in \u001b[0;36mread_file_line_by_line\u001b[1;34m(file_path)\u001b[0m\n\u001b[0;32m      1\u001b[0m \u001b[38;5;28;01mdef\u001b[39;00m \u001b[38;5;21mread_file_line_by_line\u001b[39m(file_path):\n\u001b[1;32m----> 2\u001b[0m     \u001b[38;5;28;01mwith\u001b[39;00m \u001b[38;5;28mopen\u001b[39m(file_path, \u001b[38;5;124m'\u001b[39m\u001b[38;5;124mr\u001b[39m\u001b[38;5;124m'\u001b[39m) \u001b[38;5;28;01mas\u001b[39;00m file:\n\u001b[0;32m      3\u001b[0m         \u001b[38;5;28;01mfor\u001b[39;00m line \u001b[38;5;129;01min\u001b[39;00m file:\n\u001b[0;32m      4\u001b[0m             \u001b[38;5;28;01myield\u001b[39;00m line\u001b[38;5;241m.\u001b[39mstrip()\n",
      "File \u001b[1;32m~\\anaconda3\\Lib\\site-packages\\IPython\\core\\interactiveshell.py:324\u001b[0m, in \u001b[0;36m_modified_open\u001b[1;34m(file, *args, **kwargs)\u001b[0m\n\u001b[0;32m    317\u001b[0m \u001b[38;5;28;01mif\u001b[39;00m file \u001b[38;5;129;01min\u001b[39;00m {\u001b[38;5;241m0\u001b[39m, \u001b[38;5;241m1\u001b[39m, \u001b[38;5;241m2\u001b[39m}:\n\u001b[0;32m    318\u001b[0m     \u001b[38;5;28;01mraise\u001b[39;00m \u001b[38;5;167;01mValueError\u001b[39;00m(\n\u001b[0;32m    319\u001b[0m         \u001b[38;5;124mf\u001b[39m\u001b[38;5;124m\"\u001b[39m\u001b[38;5;124mIPython won\u001b[39m\u001b[38;5;124m'\u001b[39m\u001b[38;5;124mt let you open fd=\u001b[39m\u001b[38;5;132;01m{\u001b[39;00mfile\u001b[38;5;132;01m}\u001b[39;00m\u001b[38;5;124m by default \u001b[39m\u001b[38;5;124m\"\u001b[39m\n\u001b[0;32m    320\u001b[0m         \u001b[38;5;124m\"\u001b[39m\u001b[38;5;124mas it is likely to crash IPython. If you know what you are doing, \u001b[39m\u001b[38;5;124m\"\u001b[39m\n\u001b[0;32m    321\u001b[0m         \u001b[38;5;124m\"\u001b[39m\u001b[38;5;124myou can use builtins\u001b[39m\u001b[38;5;124m'\u001b[39m\u001b[38;5;124m open.\u001b[39m\u001b[38;5;124m\"\u001b[39m\n\u001b[0;32m    322\u001b[0m     )\n\u001b[1;32m--> 324\u001b[0m \u001b[38;5;28;01mreturn\u001b[39;00m io_open(file, \u001b[38;5;241m*\u001b[39margs, \u001b[38;5;241m*\u001b[39m\u001b[38;5;241m*\u001b[39mkwargs)\n",
      "\u001b[1;31mFileNotFoundError\u001b[0m: [Errno 2] No such file or directory: 'example.txt'"
     ]
    }
   ],
   "source": [
    "def read_file_line_by_line(file_path):\n",
    "    with open(file_path, 'r') as file:\n",
    "        for line in file:\n",
    "            yield line.strip()  # Using strip() to remove any trailing newline characters\n",
    "\n",
    "file_path = 'example.txt'\n",
    "for line in read_file_line_by_line(file_path):\n",
    "    print(line)"
   ]
  },
  {
   "cell_type": "code",
   "execution_count": null,
   "id": "f4195d5c-761a-4503-a04a-3bb5ec3119c6",
   "metadata": {},
   "outputs": [],
   "source": []
  }
 ],
 "metadata": {
  "kernelspec": {
   "display_name": "Python 3 (ipykernel)",
   "language": "python",
   "name": "python3"
  },
  "language_info": {
   "codemirror_mode": {
    "name": "ipython",
    "version": 3
   },
   "file_extension": ".py",
   "mimetype": "text/x-python",
   "name": "python",
   "nbconvert_exporter": "python",
   "pygments_lexer": "ipython3",
   "version": "3.12.7"
  }
 },
 "nbformat": 4,
 "nbformat_minor": 5
}
